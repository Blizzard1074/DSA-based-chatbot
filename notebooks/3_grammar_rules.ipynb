{
 "cells": [
  {
   "cell_type": "code",
   "execution_count": 2,
   "metadata": {},
   "outputs": [],
   "source": [
    "import json\n",
    "\n",
    "# Example grammar rules for subject-verb agreement\n",
    "grammar_rules = {\n",
    "    \"subject_verb_agreement\": {\n",
    "        \"singular\": [\"is\", \"was\", \"has\"],\n",
    "        \"plural\": [\"are\", \"were\", \"have\"]\n",
    "    },\n",
    "    \"adjective_noun_order\": {\n",
    "        \"order\": [\"adjective\", \"noun\"]\n",
    "    }\n",
    "}\n",
    "\n",
    "# Save grammar rules to a JSON file\n",
    "with open(\"../data/grammar_rules.json\", \"w\") as file:\n",
    "    json.dump(grammar_rules, file, indent=2)\n",
    "\n",
    "# Load grammar rules from the JSON file\n",
    "def load_grammar_rules():\n",
    "    with open(\"../data/grammar_rules.json\", \"r\") as file:\n",
    "        return json.load(file)\n",
    "\n",
    "# Apply a basic subject-verb agreement rule\n",
    "def apply_subject_verb_agreement(subject, verb):\n",
    "    rules = load_grammar_rules()[\"subject_verb_agreement\"]\n",
    "    if subject.endswith(\"s\"):\n",
    "        return rules[\"plural\"][0]  # Example: Return first plural verb\n",
    "    else:\n",
    "        return rules[\"singular\"][0]  # Example: Return first singular verb\n",
    "\n",
    "\n"
   ]
  }
 ],
 "metadata": {
  "kernelspec": {
   "display_name": "Python 3",
   "language": "python",
   "name": "python3"
  },
  "language_info": {
   "codemirror_mode": {
    "name": "ipython",
    "version": 3
   },
   "file_extension": ".py",
   "mimetype": "text/x-python",
   "name": "python",
   "nbconvert_exporter": "python",
   "pygments_lexer": "ipython3",
   "version": "3.12.6"
  }
 },
 "nbformat": 4,
 "nbformat_minor": 2
}
