{
 "cells": [
  {
   "cell_type": "code",
   "execution_count": 26,
   "metadata": {},
   "outputs": [],
   "source": [
    "import re\n",
    "from nltk.tokenize import word_tokenize\n",
    "from nltk.corpus import stopwords\n",
    "\n",
    "# Sample user input\n",
    "user_input = \"The quick brown fox jumps over the lazy dog.\"\n",
    "\n",
    "# Preprocess the input by tokenizing and removing stopwords\n",
    "def preprocess_input(text):\n",
    "    # Tokenize the input\n",
    "    tokens = word_tokenize(text.lower())\n",
    "    \n",
    "    # Remove punctuation\n",
    "    tokens = [re.sub(r'\\W+', '', token) for token in tokens if token.isalpha()]\n",
    "    \n",
    "    # Remove stopwords\n",
    "    tokens = [token for token in tokens if token not in stopwords.words('english')]\n",
    "    \n",
    "    return tokens\n",
    "\n",
    "\n"
   ]
  },
  {
   "cell_type": "code",
   "execution_count": 2,
   "metadata": {},
   "outputs": [
    {
     "name": "stdout",
     "output_type": "stream",
     "text": [
      "Collecting fuzzywuzzy\n",
      "  Downloading fuzzywuzzy-0.18.0-py2.py3-none-any.whl.metadata (4.9 kB)\n",
      "Downloading fuzzywuzzy-0.18.0-py2.py3-none-any.whl (18 kB)\n",
      "Installing collected packages: fuzzywuzzy\n",
      "Successfully installed fuzzywuzzy-0.18.0\n",
      "Note: you may need to restart the kernel to use updated packages.\n"
     ]
    }
   ],
   "source": [
    "pip install fuzzywuzzy"
   ]
  },
  {
   "cell_type": "code",
   "execution_count": 5,
   "metadata": {},
   "outputs": [],
   "source": [
    "# Assuming you have the Trie class defined like this (from previous steps):\n",
    "class TrieNode:\n",
    "    def __init__(self):\n",
    "        self.children = {}\n",
    "        self.is_end_of_word = False\n",
    "\n",
    "class Trie:\n",
    "    def __init__(self):\n",
    "        self.root = TrieNode()\n",
    "\n",
    "    def insert(self, word):\n",
    "        node = self.root\n",
    "        for char in word:\n",
    "            if char not in node.children:\n",
    "                node.children[char] = TrieNode()\n",
    "            node = node.children[char]\n",
    "        node.is_end_of_word = True\n",
    "\n",
    "    def search(self, word):\n",
    "        node = self.root\n",
    "        for char in word:\n",
    "            if char not in node.children:\n",
    "                return None\n",
    "            node = node.children[char]\n",
    "        return node if node.is_end_of_word else None\n",
    "\n",
    "# Instantiate Trie and insert sample words\n",
    "trie = Trie()\n",
    "sample_words = [\"example\", \"test\", \"string\", \"matching\", \"run\", \"she\", \"he\", \"quickly\"]\n",
    "for word in sample_words:\n",
    "    trie.insert(word)\n",
    "\n",
    "# Now, we can define the StringMatcher\n",
    "from fuzzywuzzy import fuzz\n",
    "\n",
    "class StringMatcher:\n",
    "    def __init__(self, trie):\n",
    "        self.trie = trie\n",
    "\n",
    "    def match_word(self, input_word):\n",
    "        node = self.trie.search(input_word)\n",
    "        if node:\n",
    "            return input_word  # Exact match found\n",
    "        \n",
    "        # Fuzzy match if exact match not found\n",
    "        possible_matches = []\n",
    "        for word in self.get_all_words():\n",
    "            similarity = fuzz.ratio(input_word, word)\n",
    "            if similarity > 70:  # Threshold for fuzzy match\n",
    "                possible_matches.append((word, similarity))\n",
    "        \n",
    "        # Sort matches based on similarity and return the best match\n",
    "        if possible_matches:\n",
    "            possible_matches.sort(key=lambda x: x[1], reverse=True)\n",
    "            return possible_matches[0][0]\n",
    "        return None\n",
    "\n",
    "    def get_all_words(self):\n",
    "        # Function to retrieve all words in the trie\n",
    "        words = []\n",
    "        self.dfs(self.trie.root, \"\", words)\n",
    "        return words\n",
    "\n",
    "    def dfs(self, node, prefix, words):\n",
    "        if node.is_end_of_word:\n",
    "            words.append(prefix)\n",
    "        for char, child_node in node.children.items():\n",
    "            self.dfs(child_node, prefix + char, words)\n",
    "\n",
    "\n"
   ]
  }
 ],
 "metadata": {
  "kernelspec": {
   "display_name": "Python 3",
   "language": "python",
   "name": "python3"
  },
  "language_info": {
   "codemirror_mode": {
    "name": "ipython",
    "version": 3
   },
   "file_extension": ".py",
   "mimetype": "text/x-python",
   "name": "python",
   "nbconvert_exporter": "python",
   "pygments_lexer": "ipython3",
   "version": "3.12.6"
  }
 },
 "nbformat": 4,
 "nbformat_minor": 2
}
