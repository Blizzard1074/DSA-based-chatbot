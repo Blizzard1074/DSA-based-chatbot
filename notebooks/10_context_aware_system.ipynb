{
 "cells": [
  {
   "cell_type": "code",
   "execution_count": 1,
   "metadata": {},
   "outputs": [],
   "source": [
    "\n",
    "\n",
    "class ContextAwareChatbot:\n",
    "    def __init__(self):\n",
    "        self.context = {}\n",
    "\n",
    "    def update_context(self, user_input, response):\n",
    "        # Simple context update mechanism\n",
    "        self.context[user_input] = response\n",
    "\n",
    "    def generate_response(self, user_input):\n",
    "        response = super().generate_response(user_input)  # Assuming inheritance from previous class\n",
    "        self.update_context(user_input, response)\n",
    "        return response\n",
    "\n"
   ]
  }
 ],
 "metadata": {
  "kernelspec": {
   "display_name": "Python 3",
   "language": "python",
   "name": "python3"
  },
  "language_info": {
   "codemirror_mode": {
    "name": "ipython",
    "version": 3
   },
   "file_extension": ".py",
   "mimetype": "text/x-python",
   "name": "python",
   "nbconvert_exporter": "python",
   "pygments_lexer": "ipython3",
   "version": "3.12.6"
  }
 },
 "nbformat": 4,
 "nbformat_minor": 2
}
