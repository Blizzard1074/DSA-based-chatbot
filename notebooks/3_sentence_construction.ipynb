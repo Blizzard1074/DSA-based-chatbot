{
 "cells": [
  {
   "cell_type": "code",
   "execution_count": 3,
   "metadata": {},
   "outputs": [
    {
     "name": "stdout",
     "output_type": "stream",
     "text": [
      "None\n"
     ]
    }
   ],
   "source": [
    "# 3_sentence_construction.ipynb\n",
    "\n",
    "import os\n",
    "import sys\n",
    "\n",
    "# Update sys.path to include src directory where grammar_rules.py and trie_data_structure.py are located\n",
    "src_path = r'C:\\Users\\KIIT\\Downloads\\chatbot_project\\src'\n",
    "sys.path.append(src_path)\n",
    "\n",
    "# Import necessary classes from src directory\n",
    "from grammar_rules import GrammarValidator  # Import GrammarValidator class\n",
    "from trie_data_structure import Trie        # Import Trie class\n",
    "\n",
    "# Initialize GrammarValidator and Trie\n",
    "grammar_validator = GrammarValidator()  # Load grammar rules\n",
    "trie = Trie()  # Initialize an empty Trie\n",
    "\n",
    "# Add words to the Trie for testing\n",
    "trie.insert(\"She\")\n",
    "trie.insert(\"runs\")\n",
    "\n",
    "# Define the SentenceBuilder class\n",
    "class SentenceBuilder:\n",
    "    def __init__(self, grammar_validator, trie):\n",
    "        self.grammar_validator = grammar_validator\n",
    "        self.trie = trie\n",
    "\n",
    "    def generate_sentence(self, subject, verb):\n",
    "        # Check if the words exist in the Trie\n",
    "        if not self.trie.search(subject) or not self.trie.search(verb):\n",
    "            return None\n",
    "        \n",
    "        # Construct a basic sentence\n",
    "        sentence = f\"{subject} {verb}\"\n",
    "\n",
    "        # Apply grammar validation (subject-verb agreement)\n",
    "        if self.grammar_validator.validate_subject_verb_agreement(subject, verb):\n",
    "            return sentence\n",
    "        else:\n",
    "            return None\n",
    "\n",
    "# Initialize SentenceBuilder\n",
    "builder = SentenceBuilder(grammar_validator, trie)\n",
    "\n",
    "# Example usage to generate a sentence\n",
    "sentence = builder.generate_sentence(\"She\", \"runs\")\n",
    "print(sentence)  # Output: \"She runs\"\n"
   ]
  }
 ],
 "metadata": {
  "kernelspec": {
   "display_name": "Python 3",
   "language": "python",
   "name": "python3"
  },
  "language_info": {
   "codemirror_mode": {
    "name": "ipython",
    "version": 3
   },
   "file_extension": ".py",
   "mimetype": "text/x-python",
   "name": "python",
   "nbconvert_exporter": "python",
   "pygments_lexer": "ipython3",
   "version": "3.12.6"
  }
 },
 "nbformat": 4,
 "nbformat_minor": 2
}
