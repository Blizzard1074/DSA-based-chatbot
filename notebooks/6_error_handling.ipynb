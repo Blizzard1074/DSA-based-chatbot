{
 "cells": [
  {
   "cell_type": "code",
   "execution_count": 1,
   "metadata": {},
   "outputs": [],
   "source": [
    "# 6_error_handling.ipynb\n",
    "\n",
    "class APIError(Exception):\n",
    "    \"\"\"Custom exception for API-related errors.\"\"\"\n",
    "    pass\n",
    "\n",
    "class DataProcessingError(Exception):\n",
    "    \"\"\"Custom exception for data processing errors.\"\"\"\n",
    "    pass\n",
    "\n",
    "def fetch_word_data(word):\n",
    "    try:\n",
    "        response = requests.get(f\"{API_URL}/{word}\")\n",
    "        response.raise_for_status()  # Raise an error for bad responses\n",
    "        return response.json()\n",
    "    except requests.exceptions.HTTPError as e:\n",
    "        raise APIError(f\"HTTP error occurred: {e}\")\n",
    "    except requests.exceptions.RequestException as e:\n",
    "        raise APIError(f\"Error fetching data: {e}\")\n",
    "\n",
    "def process_data(data):\n",
    "    try:\n",
    "        # Processing logic here\n",
    "        pass\n",
    "    except Exception as e:\n",
    "        raise DataProcessingError(f\"Error processing data: {e}\")\n",
    "\n"
   ]
  }
 ],
 "metadata": {
  "kernelspec": {
   "display_name": "Python 3",
   "language": "python",
   "name": "python3"
  },
  "language_info": {
   "codemirror_mode": {
    "name": "ipython",
    "version": 3
   },
   "file_extension": ".py",
   "mimetype": "text/x-python",
   "name": "python",
   "nbconvert_exporter": "python",
   "pygments_lexer": "ipython3",
   "version": "3.12.6"
  }
 },
 "nbformat": 4,
 "nbformat_minor": 2
}
