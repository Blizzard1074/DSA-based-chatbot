{
 "cells": [
  {
   "cell_type": "code",
   "execution_count": 2,
   "metadata": {},
   "outputs": [],
   "source": [
    "import requests\n",
    "import requests_cache\n",
    "import logging\n",
    "import json\n",
    "\n",
    "# Enable caching for API requests\n",
    "requests_cache.install_cache('dictionary_cache', expire_after=86400)  # Cache expires after 24 hours\n",
    "\n",
    "# Set up logging\n",
    "logging.basicConfig(filename='api_requests.log', level=logging.INFO, format='%(asctime)s - %(message)s')\n",
    "\n",
    "# Dictionary API details\n",
    "API_URL = \"https://api.dictionaryapi.dev/api/v2/entries/en/\"\n",
    "\n",
    "# Fetch word details from API\n",
    "def fetch_word_details(word):\n",
    "    try:\n",
    "        response = requests.get(API_URL + word)\n",
    "        if response.status_code == 200:\n",
    "            logging.info(f\"API call successful for word: {word}\")\n",
    "            return response.json()\n",
    "        elif response.status_code == 404:\n",
    "            logging.warning(f\"Word '{word}' not found in the dictionary.\")\n",
    "            return {\"error\": \"Word not found\"}\n",
    "        else:\n",
    "            response.raise_for_status()  # Raise an error for other status codes\n",
    "    except requests.exceptions.RequestException as e:\n",
    "        logging.error(f\"Error fetching word '{word}': {e}\")\n",
    "        return {\"error\": \"Request failed\"}\n",
    "\n"
   ]
  }
 ],
 "metadata": {
  "kernelspec": {
   "display_name": "Python 3",
   "language": "python",
   "name": "python3"
  },
  "language_info": {
   "codemirror_mode": {
    "name": "ipython",
    "version": 3
   },
   "file_extension": ".py",
   "mimetype": "text/x-python",
   "name": "python",
   "nbconvert_exporter": "python",
   "pygments_lexer": "ipython3",
   "version": "3.12.6"
  }
 },
 "nbformat": 4,
 "nbformat_minor": 2
}
